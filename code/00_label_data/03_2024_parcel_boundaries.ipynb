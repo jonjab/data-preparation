{
 "cells": [
  {
   "cell_type": "markdown",
   "metadata": {},
   "source": [
    "# Check 2024 Parcel Boundaries"
   ]
  },
  {
   "cell_type": "code",
   "execution_count": 1,
   "metadata": {},
   "outputs": [],
   "source": [
    "import os\n",
    "import sys\n",
    "import numpy as np\n",
    "import pandas as pd\n",
    "import geopandas as gpd\n",
    "\n",
    "import seaborn as sns\n",
    "import matplotlib.pyplot as plt\n",
    "import matplotlib.colors as colors\n",
    "\n",
    "sys.path.append(\"../utils\")\n",
    "\n",
    "import config\n",
    "\n",
    "pd.set_option(\"display.max_columns\", None)"
   ]
  },
  {
   "cell_type": "markdown",
   "metadata": {},
   "source": [
    "### Import 2024 parcel boundaries"
   ]
  },
  {
   "cell_type": "code",
   "execution_count": 2,
   "metadata": {},
   "outputs": [
    {
     "name": "stdout",
     "output_type": "stream",
     "text": [
      "Parcels CRS: EPSG:3310\n"
     ]
    }
   ],
   "source": [
    "# Read SB County Assessor parcel data for 2024\n",
    "parcel_path_2024 = os.path.join(\n",
    "    config.data_dir, \"Parcel_Maps_SpatialIndex_2024\", \"Parcel_Maps.shp\"\n",
    ")\n",
    "parcels_2024 = gpd.read_file(parcel_path_2024)\n",
    "parcels_2024 = parcels_2024.to_crs(config.albers_crs)\n",
    "print(\"Parcels CRS:\", parcels_2024.crs)"
   ]
  },
  {
   "cell_type": "markdown",
   "metadata": {},
   "source": [
    "### Import 2024 inspections"
   ]
  },
  {
   "cell_type": "code",
   "execution_count": 16,
   "metadata": {},
   "outputs": [
    {
     "name": "stderr",
     "output_type": "stream",
     "text": [
      "/Users/rubinstein/.conda/envs/prg/lib/python3.12/site-packages/pyogrio/geopandas.py:265: UserWarning: More than one layer found in 'Defensible_Space_2024_address_points.gdb': 'T2024_Defensible_Space_LatLong_Addr' (default), 'T2024_Defensible_Space_LatLong_Addr_Points', 'c2024_Defensible_Space_LatLong_Addr_XYTableToPoint'. Specify layer parameter to avoid this warning.\n",
      "  result = read_func(\n"
     ]
    }
   ],
   "source": [
    "# Inspections coordinates?\n",
    "inspections_address_path_2024 = os.path.join(\n",
    "    config.data_dir,\n",
    "    \"parcel_data\",\n",
    "    \"Defensible_Space_2024_address_points.gdb\",\n",
    ")\n",
    "inspections_address_2024 = gpd.read_file(inspections_address_path_2024)\n",
    "\n",
    "# Inspections lat/long csv?\n",
    "inspections_latlong_2024 = os.path.join(\n",
    "    config.data_dir,\n",
    "    \"parcel_data\",\n",
    "    \"2024_Defensible_Space_LatLong_Addr.csv\",\n",
    ")\n",
    "inspections_latlong_2024 = pd.read_csv(inspections_latlong_2024)\n"
   ]
  },
  {
   "cell_type": "code",
   "execution_count": 15,
   "metadata": {},
   "outputs": [
    {
     "data": {
      "text/plain": [
       "True"
      ]
     },
     "execution_count": 15,
     "metadata": {},
     "output_type": "execute_result"
    }
   ],
   "source": [
    "# Check if the two dataframes are equal\n",
    "inspections_address_2024.equals(inspections_latlong_2024)"
   ]
  },
  {
   "cell_type": "markdown",
   "metadata": {},
   "source": [
    "The above two dataframes are the same."
   ]
  },
  {
   "cell_type": "code",
   "execution_count": 19,
   "metadata": {},
   "outputs": [
    {
     "data": {
      "text/html": [
       "<div>\n",
       "<style scoped>\n",
       "    .dataframe tbody tr th:only-of-type {\n",
       "        vertical-align: middle;\n",
       "    }\n",
       "\n",
       "    .dataframe tbody tr th {\n",
       "        vertical-align: top;\n",
       "    }\n",
       "\n",
       "    .dataframe thead th {\n",
       "        text-align: right;\n",
       "    }\n",
       "</style>\n",
       "<table border=\"1\" class=\"dataframe\">\n",
       "  <thead>\n",
       "    <tr style=\"text-align: right;\">\n",
       "      <th></th>\n",
       "      <th>NUMBER</th>\n",
       "      <th>STREET</th>\n",
       "      <th>CITY</th>\n",
       "      <th>COUNTY</th>\n",
       "      <th>STATE</th>\n",
       "      <th>ZIP</th>\n",
       "      <th>FULL ADDRESS</th>\n",
       "    </tr>\n",
       "  </thead>\n",
       "  <tbody>\n",
       "    <tr>\n",
       "      <th>0</th>\n",
       "      <td>1</td>\n",
       "      <td>De La Cresta Rd</td>\n",
       "      <td>Goleta</td>\n",
       "      <td>Santa Barbara</td>\n",
       "      <td>CA</td>\n",
       "      <td>93436</td>\n",
       "      <td>1 A De La Cresta Rd Goleta CA 93436</td>\n",
       "    </tr>\n",
       "    <tr>\n",
       "      <th>1</th>\n",
       "      <td>1</td>\n",
       "      <td>Arroyo Quemada Ln</td>\n",
       "      <td>Goleta</td>\n",
       "      <td>Santa Barbara</td>\n",
       "      <td>CA</td>\n",
       "      <td>93117</td>\n",
       "      <td>1 Arroyo Quemada Ln Goleta CA 93117</td>\n",
       "    </tr>\n",
       "    <tr>\n",
       "      <th>2</th>\n",
       "      <td>1 B</td>\n",
       "      <td>De La Cresta Rd</td>\n",
       "      <td>Goleta</td>\n",
       "      <td>Santa Barbara</td>\n",
       "      <td>CA</td>\n",
       "      <td>93436</td>\n",
       "      <td>1 B De La Cresta Rd Goleta CA 93436</td>\n",
       "    </tr>\n",
       "    <tr>\n",
       "      <th>3</th>\n",
       "      <td>1</td>\n",
       "      <td>Bear Creek</td>\n",
       "      <td>Santa Barbara</td>\n",
       "      <td>Santa Barbara</td>\n",
       "      <td>CA</td>\n",
       "      <td>93105</td>\n",
       "      <td>1 Bear Creek Santa Barbara CA 93105</td>\n",
       "    </tr>\n",
       "    <tr>\n",
       "      <th>4</th>\n",
       "      <td>1</td>\n",
       "      <td>Lakeview Dr</td>\n",
       "      <td>Santa Barbara</td>\n",
       "      <td>Santa Barbara</td>\n",
       "      <td>CA</td>\n",
       "      <td>93105</td>\n",
       "      <td>1 Lakeview Dr Santa Barbara CA 93105</td>\n",
       "    </tr>\n",
       "  </tbody>\n",
       "</table>\n",
       "</div>"
      ],
      "text/plain": [
       "  NUMBER             STREET           CITY         COUNTY STATE    ZIP  \\\n",
       "0      1    De La Cresta Rd         Goleta  Santa Barbara    CA  93436   \n",
       "1      1  Arroyo Quemada Ln         Goleta  Santa Barbara    CA  93117   \n",
       "2    1 B    De La Cresta Rd         Goleta  Santa Barbara    CA  93436   \n",
       "3      1         Bear Creek  Santa Barbara  Santa Barbara    CA  93105   \n",
       "4      1        Lakeview Dr  Santa Barbara  Santa Barbara    CA  93105   \n",
       "\n",
       "                           FULL ADDRESS  \n",
       "0   1 A De La Cresta Rd Goleta CA 93436  \n",
       "1   1 Arroyo Quemada Ln Goleta CA 93117  \n",
       "2   1 B De La Cresta Rd Goleta CA 93436  \n",
       "3   1 Bear Creek Santa Barbara CA 93105  \n",
       "4  1 Lakeview Dr Santa Barbara CA 93105  "
      ]
     },
     "execution_count": 19,
     "metadata": {},
     "output_type": "execute_result"
    }
   ],
   "source": [
    "# Ready set go address list\n",
    "inspections_readyset_2024 = os.path.join(\n",
    "    config.data_dir,\n",
    "    \"parcel_data\",\n",
    "    \"2024_ReadySetGo_DSP_Address_List_20240415.csv\",\n",
    ")\n",
    "inspections_readyset_2024 = pd.read_csv(inspections_readyset_2024)\n",
    "inspections_readyset_2024.head()"
   ]
  },
  {
   "cell_type": "markdown",
   "metadata": {},
   "source": [
    "### Conclusion\n",
    "\n",
    "There appear to be no inspection labels for the 2024 data."
   ]
  }
 ],
 "metadata": {
  "kernelspec": {
   "display_name": "Python 3",
   "language": "python",
   "name": "python3"
  },
  "language_info": {
   "codemirror_mode": {
    "name": "ipython",
    "version": 3
   },
   "file_extension": ".py",
   "mimetype": "text/x-python",
   "name": "python",
   "nbconvert_exporter": "python",
   "pygments_lexer": "ipython3",
   "version": "3.12.8"
  }
 },
 "nbformat": 4,
 "nbformat_minor": 2
}
