{
 "cells": [
  {
   "cell_type": "code",
   "execution_count": null,
   "metadata": {},
   "outputs": [],
   "source": [
    "import json\n",
    "import os\n",
    "import pathlib\n",
    "import time\n",
    "import geopandas as gpd\n",
    "import pandas as pd\n",
    "\n",
    "import requests\n",
    "from requests.auth import HTTPBasicAuth\n",
    "from planet import Session, DataClient, OrdersClient, Auth, Planet\n",
    "\n",
    "crs = \"EPSG:4326\"\n",
    "sb_bbox = [-125, 34.25, -119.0, 38.0]\n",
    "\n",
    "data_api_url = \"https://api.planet.com/data/v1\"\n",
    "orders_api_url = 'https://api.planet.com/compute/ops/orders/v2' \n",
    "\n"
   ]
  },
  {
   "cell_type": "markdown",
   "metadata": {},
   "source": [
    "Set api key and authorize"
   ]
  },
  {
   "cell_type": "code",
   "execution_count": null,
   "metadata": {},
   "outputs": [],
   "source": [
    "# if your Planet API Key is not set as an environment variable, you can paste it below\n",
    "# API key from Joshua's repo:\n",
    "if os.environ.get('PL_API_KEY') == None:\n",
    "    os.environ[\"PL_API_KEY\"] = 'PLAK723f32b266fa484cb256071a3006e80b'\n",
    "    \n",
    "planet_key = os.environ.get(\"PL_API_KEY\")\n",
    "\n",
    "# authentication\n",
    "auth = HTTPBasicAuth(planet_key, \"\")\n",
    "response = requests.get(data_api_url, auth=auth)\n",
    "print(response)\n",
    "\n",
    "# make function for pagenation\n",
    "def p(data):\n",
    "    print(json.dumps(data, indent = 2))"
   ]
  },
  {
   "cell_type": "markdown",
   "metadata": {},
   "source": [
    "init session"
   ]
  },
  {
   "cell_type": "code",
   "execution_count": null,
   "metadata": {},
   "outputs": [],
   "source": [
    "# setup\n",
    "session = requests.Session()\n",
    "\n",
    "# authenticate\n",
    "session.auth = (planet_key, \"\")\n",
    "\n",
    "res = session.get(data_api_url)"
   ]
  },
  {
   "cell_type": "markdown",
   "metadata": {},
   "source": [
    "test polygon"
   ]
  },
  {
   "cell_type": "code",
   "execution_count": null,
   "metadata": {},
   "outputs": [],
   "source": [
    "! dir"
   ]
  },
  {
   "cell_type": "code",
   "execution_count": null,
   "metadata": {},
   "outputs": [],
   "source": [
    "sb_county = gpd.read_file(\"greater_UCSB-campus-aoi.geojson\")\n",
    "type(sb_county)"
   ]
  },
  {
   "cell_type": "markdown",
   "metadata": {},
   "source": [
    "get geojson"
   ]
  },
  {
   "cell_type": "code",
   "execution_count": null,
   "metadata": {},
   "outputs": [],
   "source": [
    "sb_json = (\n",
    "    dict( # convert to dict because first index outputs as list\n",
    "        sb_county.pipe(gpd.GeoDataFrame)\n",
    "        .to_geo_dict() # convert polygon to geojson format\n",
    "        [\"features\"][0] # select first and only feature\n",
    "        )\n",
    "        [\"geometry\"] # select geometry attribute\n",
    "    )\n",
    "\n",
    "len(sb_json[\"coordinates\"][0])"
   ]
  },
  {
   "cell_type": "code",
   "execution_count": null,
   "metadata": {},
   "outputs": [],
   "source": [
    "# output the AOI\n",
    "sb_county.simplify(0.03).to_frame(name=\"geometry\").pipe(gpd.GeoDataFrame).boundary.iloc[0]"
   ]
  },
  {
   "cell_type": "markdown",
   "metadata": {},
   "source": [
    "Set filters"
   ]
  },
  {
   "cell_type": "code",
   "execution_count": null,
   "metadata": {},
   "outputs": [],
   "source": [
    "# set geometry filter\n",
    "geometry_filter = {\n",
    "    \"type\": \"GeometryFilter\", \n",
    "    \"field_name\": \"geometry\", \n",
    "    \"config\": sb_json\n",
    "}\n",
    "\n",
    "# # set date filter\n",
    "# date_range_filter = {\n",
    "#     \"type\": \"DateRangeFilter\", \n",
    "#     \"field_name\": \"acquired\",  \n",
    "#     \"config\": { \n",
    "#         \"gte\": \"2023-12-01T00:00:00.000Z\",\n",
    "#         \"lt\":  \"2024-01-01T00:00:00.000Z\"\n",
    "#     }\n",
    "# }\n",
    "\n",
    "# DEMO DATE RANGE FILTER\n",
    "# ONLY FOR ONE MONTH\n",
    "date_range_filter = {\n",
    "    \"type\": \"DateRangeFilter\", \n",
    "    \"field_name\": \"acquired\",  \n",
    "    \"config\": { \n",
    "        \"gte\": \"2022-05-01T00:00:00.000Z\",\n",
    "        \"lt\":  \"2022-06-01T00:00:00.000Z\"\n",
    "    }\n",
    "}\n",
    "\n",
    "# # set cloud cover filter\n",
    "# cloud_cover_filter = {\n",
    "#     \"type\": \"RangeFilter\", \n",
    "#     \"field_name\": \"cloud_cover\", \n",
    "#     \"config\": {\n",
    "#         \"lt\": 0.5\n",
    "#     }\n",
    "# }\n",
    "\n",
    "# MAKING CLOUD FILTER STRICTER TO MAKE NUM SCENES UNDER 500\n",
    "cloud_cover_filter = {\n",
    "    \"type\": \"RangeFilter\", \n",
    "    \"field_name\": \"cloud_cover\", \n",
    "    \"config\": {\n",
    "        \"lt\": 0.01\n",
    "    }\n",
    "}\n",
    "\n",
    "# combine filters\n",
    "combined_filters = {\n",
    "    \"type\": \"AndFilter\", \n",
    "    \"config\": [geometry_filter, date_range_filter, cloud_cover_filter]\n",
    "}"
   ]
  },
  {
   "cell_type": "markdown",
   "metadata": {},
   "source": [
    "Run quick search based on filters"
   ]
  },
  {
   "cell_type": "code",
   "execution_count": null,
   "metadata": {},
   "outputs": [],
   "source": [
    "item_types = [\"PSScene\"]\n",
    "\n",
    "search_request = {\n",
    "    \"item_types\": item_types,\n",
    "    \"filter\": combined_filters\n",
    "}\n",
    "\n",
    "search_result = \\\n",
    "    requests.post(\n",
    "        \"https://api.planet.com/data/v1/quick-search\",\n",
    "        auth = HTTPBasicAuth(planet_key, ''), \n",
    "        json = search_request\n",
    "    )\n",
    "\n",
    "print(search_result)"
   ]
  },
  {
   "cell_type": "markdown",
   "metadata": {},
   "source": [
    "Print results scene ids"
   ]
  },
  {
   "cell_type": "code",
   "execution_count": null,
   "metadata": {},
   "outputs": [],
   "source": [
    "first_ids = [feature['id'] for feature in search_result.json()[\"features\"]]\n",
    "first_ids"
   ]
  },
  {
   "cell_type": "markdown",
   "metadata": {},
   "source": [
    "Print all scene ids"
   ]
  },
  {
   "cell_type": "code",
   "execution_count": null,
   "metadata": {},
   "outputs": [],
   "source": [
    "all_ids = []\n",
    "all_ids.extend(first_ids)\n",
    "loop_trigger = len(first_ids)\n",
    "\n",
    "id_json = search_result.json()\n",
    "\n",
    "while loop_trigger == 250:\n",
    "    next_url = id_json[\"_links\"][\"_next\"]\n",
    "\n",
    "    next_250 = session.get(next_url)\n",
    "\n",
    "    id_json = next_250.json()\n",
    "\n",
    "    features = next_250.json()[\"features\"]\n",
    "\n",
    "\n",
    "    id_list = []\n",
    "\n",
    "    for f in features:\n",
    "        \n",
    "        # print id for each feature\n",
    "        id_str = f[\"id\"]\n",
    "        id_list.extend([id_str])\n",
    "\n",
    "    all_ids.extend(id_list)\n",
    "\n",
    "    print(f\"num ids: {len(all_ids)}\")\n",
    "\n",
    "    loop_trigger = len(id_list)"
   ]
  },
  {
   "cell_type": "code",
   "execution_count": null,
   "metadata": {},
   "outputs": [],
   "source": [
    "# not_str_cnt = 0\n",
    "# for id in all_ids:\n",
    "#     if isinstance(id, str) != True:\n",
    "#         print(f\"{id} not string!!\")\n",
    "#         not_str_cnt = not_str_cnt + 1\n",
    "\n",
    "# print(f\"not string count: {not_str_cnt}\")"
   ]
  },
  {
   "cell_type": "code",
   "execution_count": null,
   "metadata": {},
   "outputs": [],
   "source": [
    "all_ids"
   ]
  },
  {
   "cell_type": "markdown",
   "metadata": {},
   "source": [
    "### Requests example\n",
    "\n",
    "In this notebook, we will be using `requests` to communicate with the orders v2 API. First, we will check our orders list to make sure authentication and communication is working as expected.\n",
    "\n",
    "We want to get a response code of `200` from this API call. To troubleshoot other response codes, see the [List Orders](https://developers.planet.com/apis/orders/reference/#tag/Orders/operation/listOrders) API reference."
   ]
  },
  {
   "cell_type": "code",
   "execution_count": null,
   "metadata": {},
   "outputs": [],
   "source": [
    "auth = HTTPBasicAuth(planet_key, \"\")\n",
    "order_response = requests.get(orders_api_url, auth=auth)\n",
    "print(order_response)"
   ]
  },
  {
   "cell_type": "markdown",
   "metadata": {},
   "source": [
    "Print previous orders"
   ]
  },
  {
   "cell_type": "code",
   "execution_count": null,
   "metadata": {},
   "outputs": [],
   "source": [
    "orders = order_response.json()['orders']\n",
    "[r['name'] for r in orders[:5]]"
   ]
  },
  {
   "cell_type": "markdown",
   "metadata": {},
   "source": [
    "Make order request"
   ]
  },
  {
   "cell_type": "code",
   "execution_count": null,
   "metadata": {},
   "outputs": [],
   "source": [
    "# set content type to json\n",
    "headers = {\"content-type\": \"application/json\"}\n",
    "\n",
    "# init order parameters\n",
    "product = [\n",
    "    { \n",
    "        \"item_ids\": all_ids, \n",
    "        \"item_type\": \"PSScene\", \n",
    "        \"product_bundle\": \"analytic_8b_sr_udm2\", \n",
    "    }\n",
    "]\n",
    "\n",
    "order_request = {\n",
    "    \"name\": \"wildfire_imagery\", \n",
    "    \"products\": product, \n",
    "    \"delivery\": {\"single_archive\": True, \"archive_type\": \"zip\"}\n",
    "}"
   ]
  },
  {
   "cell_type": "code",
   "execution_count": null,
   "metadata": {},
   "outputs": [],
   "source": [
    "def place_order(request, auth):\n",
    "\n",
    "    # make order request\n",
    "    response = requests.post(\n",
    "        orders_api_url, \n",
    "        data = json.dumps(request), \n",
    "        auth = auth, \n",
    "        headers = headers\n",
    "        )\n",
    "    print(response.json())\n",
    "\n",
    "    # get ids of scenes\n",
    "    order_id = response.json()[\"id\"]\n",
    "    print(order_id)\n",
    "\n",
    "    # construct the url of our order\n",
    "    order_url = orders_api_url + '/' + order_id\n",
    "    \n",
    "    return order_url"
   ]
  },
  {
   "cell_type": "code",
   "execution_count": null,
   "metadata": {},
   "outputs": [],
   "source": [
    "# requests.post(\n",
    "#         orders_api_url, \n",
    "#         data = json.dumps(clip_request), \n",
    "#         auth = auth, \n",
    "#         headers = headers\n",
    "#         ).json()"
   ]
  },
  {
   "cell_type": "code",
   "execution_count": null,
   "metadata": {},
   "outputs": [],
   "source": [
    "#print(json.dumps(clip_request, indent = 4))"
   ]
  },
  {
   "cell_type": "code",
   "execution_count": null,
   "metadata": {},
   "outputs": [],
   "source": [
    "# place our order\n",
    "#order_url = place_order(order_request, auth)"
   ]
  },
  {
   "cell_type": "markdown",
   "metadata": {},
   "source": [
    "### Poll for order success"
   ]
  },
  {
   "cell_type": "code",
   "execution_count": null,
   "metadata": {},
   "outputs": [],
   "source": [
    "def poll_for_success(order_url, auth, num_loops = 30): \n",
    "    i = 0\n",
    "    while(i < num_loops): \n",
    "\n",
    "        # iterate\n",
    "        i += 1\n",
    "\n",
    "        # get order request\n",
    "        r = requests.get(order_url, auth = auth)\n",
    "        response = r.json()\n",
    "\n",
    "        # grab current state\n",
    "        state = response[\"orders\"][0][\"state\"]\n",
    "        print(state)\n",
    "\n",
    "        # compare it to a variety of end states and print it\n",
    "        end_states = [\"success\", \"failed\", \"partial\"]\n",
    "        if state in end_states:\n",
    "            print(f\"End State: {state}\")\n",
    "            break\n",
    "\n",
    "        # wait 30 secs\n",
    "        time.sleep(30)\n",
    "\n",
    "poll_for_success(orders_api_url, auth)"
   ]
  },
  {
   "cell_type": "code",
   "execution_count": null,
   "metadata": {},
   "outputs": [],
   "source": [
    "# test = requests.get(orders_api_url, auth = auth).json()\n",
    "# test[\"orders\"][0][\"state\"]"
   ]
  },
  {
   "cell_type": "markdown",
   "metadata": {},
   "source": [
    "### Clip to AOI: sb_json    "
   ]
  },
  {
   "cell_type": "code",
   "execution_count": null,
   "metadata": {},
   "outputs": [],
   "source": [
    "# init clip parameters\n",
    "clip =  {\n",
    "    \"clip\": {\n",
    "        \"aoi\": sb_json\n",
    "    }\n",
    "}\n",
    "\n",
    "clip_request = { \n",
    "    \"name\": \"wildfire santa barbara\", \n",
    "    \"products\": product, \n",
    "    \"tools\": [clip], \n",
    "    \"delivery\": {\"single_archive\": True, \"archive_type\": \"zip\"}\n",
    "}"
   ]
  },
  {
   "cell_type": "markdown",
   "metadata": {},
   "source": [
    "##### Place order and check for order success"
   ]
  },
  {
   "cell_type": "code",
   "execution_count": null,
   "metadata": {},
   "outputs": [],
   "source": [
    "# we don't have permission to run the clip tool\n",
    "clip_order_url = place_order(clip_request, auth)"
   ]
  },
  {
   "cell_type": "code",
   "execution_count": null,
   "metadata": {},
   "outputs": [],
   "source": [
    "# This isn't a clip error. \n",
    "poll_for_success(clip_order_url, auth)"
   ]
  },
  {
   "cell_type": "markdown",
   "metadata": {},
   "source": [
    "View results of order"
   ]
  },
  {
   "cell_type": "code",
   "execution_count": null,
   "metadata": {},
   "outputs": [],
   "source": [
    "r = requests.get(orders_api_url, auth = auth)\n",
    "clip_response = r.json()\n",
    "order_results = clip_response[\"orders\"][0][\"state\"]\n",
    "order_results"
   ]
  },
  {
   "cell_type": "markdown",
   "metadata": {},
   "source": [
    "### download"
   ]
  },
  {
   "cell_type": "code",
   "execution_count": null,
   "metadata": {},
   "outputs": [],
   "source": [
    "# download results locally and individually\n",
    "def download_results(results, overwrite=False):\n",
    "    results_urls = [r['location'] for r in results]\n",
    "    results_names = [r['name'] for r in results]\n",
    "    print('{} items to download'.format(len(results_urls)))\n",
    "    \n",
    "    for url, name in zip(results_urls, results_names):\n",
    "        path = pathlib.Path(os.path.join('..', '..', '..', 'data', name))\n",
    "        \n",
    "        if overwrite or not path.exists():\n",
    "            print('downloading {} to {}'.format(name, path))\n",
    "            r = requests.get(url, allow_redirects=True)\n",
    "            path.parent.mkdir(parents=True, exist_ok=True)\n",
    "            open(path, 'wb').write(r.content)\n",
    "        else:\n",
    "            print('{} already exists, skipping {}'.format(path, name))"
   ]
  },
  {
   "cell_type": "code",
   "execution_count": null,
   "metadata": {},
   "outputs": [],
   "source": [
    "download_results(order_results)"
   ]
  }
 ],
 "metadata": {
  "kernelspec": {
   "display_name": "Python 3",
   "language": "python",
   "name": "python3"
  },
  "language_info": {
   "codemirror_mode": {
    "name": "ipython",
    "version": 3
   },
   "file_extension": ".py",
   "mimetype": "text/x-python",
   "name": "python",
   "nbconvert_exporter": "python",
   "pygments_lexer": "ipython3",
   "version": "3.13.1"
  }
 },
 "nbformat": 4,
 "nbformat_minor": 2
}
